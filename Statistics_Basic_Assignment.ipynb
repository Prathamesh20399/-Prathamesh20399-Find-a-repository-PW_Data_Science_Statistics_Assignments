{
 "cells": [
  {
   "cell_type": "code",
   "execution_count": 1,
   "id": "94abe877-6b48-4196-a9fa-579cb70e6dd6",
   "metadata": {},
   "outputs": [
    {
     "data": {
      "text/plain": [
       "\"Q.1] Explain the different types of data (qualitative and quantitative) and provide examples of each. Discuss\\nnominal, ordinal, interval, and ratio scales.\\nAns. Data can be broadly categorized into qualitative and quantitative types, depending on their nature.\\n\\n1. Qualitative Data (Categorical Data)\\nDefinition: Data that describes qualities or characteristics and cannot be measured numerically.\\n\\n Subtypes:\\n    Nominal Scale: Categories with no inherent order.\\n    Ordinal Scale: Categories with a meaningful order but without a consistent difference between levels.\\n\\n Examples of Qualitative Data:\\n\\n Nominal:\\n\\n    Gender: Male, Female, Non-binary\\n    Eye Color: Brown, Blue, Green\\n    Marital Status: Single, Married, Divorced\\n\\n Ordinal:\\n\\n    Education Level: High School, Bachelor's, Master's, Ph.D.\\n    Customer Satisfaction: Very Dissatisfied, Dissatisfied, Neutral, Satisfied, Very Satisfied\\n    Ranking in a race: 1st, 2nd, 3rd (order matters, but the intervals between ranks are not equal)\\n\\n2. Quantitative Data (Numerical Data)\\nDefinition: Data that can be measured and expressed numerically. It can be either discrete or continuous.\\n\\n Subtypes:\\n    Interval Scale: Numeric data with meaningful intervals but no true zero.\\n    Ratio Scale: Numeric data with meaningful intervals and a true zero.\\n\\n Examples of Quantitative Data:\\n\\n Interval:\\n    Temperature in Celsius or Fahrenheit: 20∘ 𝐶, 30∘ 𝐶 (difference is meaningful, but 0∘ 𝐶 is not an absence of temperature)\\n    Time of Day: 3 PM, 6 PM (no true zero)\\n\\n Ratio:\\n    Height: 150 cm, 180 cm (has a true zero, so 0 cm means no height)\\n    Weight: 50 kg, 70 kg\\n    Distance: 5 km, 10 km (a ratio like 2:1 is meaningful)\\n\\nKey Differences Between Scales:\\n\\n Order:\\n\\n    Exists in ordinal, interval, and ratio scales.\\n    Not present in nominal scale.\\n\\n Equal Intervals:\\n\\n    Present in interval and ratio scales.\\n    Not meaningful in nominal or ordinal scales.\\n\\n True Zero:\\n\\n    Exists only in the ratio scale.\\n    Does not exist in interval scale.\""
      ]
     },
     "execution_count": 1,
     "metadata": {},
     "output_type": "execute_result"
    }
   ],
   "source": [
    "'''Q.1] Explain the different types of data (qualitative and quantitative) and provide examples of each. Discuss\n",
    "nominal, ordinal, interval, and ratio scales.\n",
    "Ans. Data can be broadly categorized into qualitative and quantitative types, depending on their nature.\n",
    "\n",
    "1. Qualitative Data (Categorical Data)\n",
    "Definition: Data that describes qualities or characteristics and cannot be measured numerically.\n",
    "\n",
    " Subtypes:\n",
    "    Nominal Scale: Categories with no inherent order.\n",
    "    Ordinal Scale: Categories with a meaningful order but without a consistent difference between levels.\n",
    "\n",
    " Examples of Qualitative Data:\n",
    "\n",
    " Nominal:\n",
    "\n",
    "    Gender: Male, Female, Non-binary\n",
    "    Eye Color: Brown, Blue, Green\n",
    "    Marital Status: Single, Married, Divorced\n",
    "\n",
    " Ordinal:\n",
    "\n",
    "    Education Level: High School, Bachelor's, Master's, Ph.D.\n",
    "    Customer Satisfaction: Very Dissatisfied, Dissatisfied, Neutral, Satisfied, Very Satisfied\n",
    "    Ranking in a race: 1st, 2nd, 3rd (order matters, but the intervals between ranks are not equal)\n",
    "\n",
    "2. Quantitative Data (Numerical Data)\n",
    "Definition: Data that can be measured and expressed numerically. It can be either discrete or continuous.\n",
    "\n",
    " Subtypes:\n",
    "    Interval Scale: Numeric data with meaningful intervals but no true zero.\n",
    "    Ratio Scale: Numeric data with meaningful intervals and a true zero.\n",
    "\n",
    " Examples of Quantitative Data:\n",
    "\n",
    " Interval:\n",
    "    Temperature in Celsius or Fahrenheit: 20∘ 𝐶, 30∘ 𝐶 (difference is meaningful, but 0∘ 𝐶 is not an absence of temperature)\n",
    "    Time of Day: 3 PM, 6 PM (no true zero)\n",
    "\n",
    " Ratio:\n",
    "    Height: 150 cm, 180 cm (has a true zero, so 0 cm means no height)\n",
    "    Weight: 50 kg, 70 kg\n",
    "    Distance: 5 km, 10 km (a ratio like 2:1 is meaningful)\n",
    "\n",
    "Key Differences Between Scales:\n",
    "\n",
    " Order:\n",
    "\n",
    "    Exists in ordinal, interval, and ratio scales.\n",
    "    Not present in nominal scale.\n",
    "\n",
    " Equal Intervals:\n",
    "\n",
    "    Present in interval and ratio scales.\n",
    "    Not meaningful in nominal or ordinal scales.\n",
    "\n",
    " True Zero:\n",
    "\n",
    "    Exists only in the ratio scale.\n",
    "    Does not exist in interval scale.'''"
   ]
  },
  {
   "cell_type": "code",
   "execution_count": 2,
   "id": "65d31c1f-ae84-42b6-988d-603397e386c9",
   "metadata": {},
   "outputs": [
    {
     "data": {
      "text/plain": [
       "'Q.2] What are the measures of central tendency, and when should you use each? Discuss the mean, median and mode with examples and situations where \\neach is appropriate.\\nAns. Central tendency measures are statistical measures used to describe or understand a sample using a single value.\\nThis value could be the most typical value found in the data set or the value that lies at the centre of the data.\\nThe measure of central tendency denotes the expected value in a given data set, and need not always be a value present in the data set. \\nA measure of central tendency could also indicate the tendency of data to centre around a particular value.\\nCommonly used measures of central tendency include Mean, Median and Mode.\\n\\n1. Mean (Arithmetic Average)\\nDefinition: The sum of all values divided by the number of values.\\n\\nMean = (x1 + x2 + x3 ...... +xn)/N\\n\\nWhen to Use:\\n    When the data is numerical and does not have extreme outliers.\\n    Appropriate for datasets where every value matters.\\n\\n2. Median\\nDefinition: The middle value when the data is ordered. If there are an even number of values, it is the average of the two middle values.\\n\\nWhen to Use:\\n    When the data has outliers or is skewed.\\n    Suitable for ordinal data (where order matters but intervals may not be equal).\\n\\n3. Mode\\nDefinition: The value(s) that occur most frequently in a dataset.\\n\\nWhen to Use:\\n    For categorical data where mean and median are not meaningful (e.g., most popular product).\\n    When identifying the most common occurrence is important.\\n    Can also be used for numerical data with repeated values.'"
      ]
     },
     "execution_count": 2,
     "metadata": {},
     "output_type": "execute_result"
    }
   ],
   "source": [
    "'''Q.2] What are the measures of central tendency, and when should you use each? Discuss the mean, median and mode with examples and situations where \n",
    "each is appropriate.\n",
    "Ans. Central tendency measures are statistical measures used to describe or understand a sample using a single value.\n",
    "This value could be the most typical value found in the data set or the value that lies at the centre of the data.\n",
    "The measure of central tendency denotes the expected value in a given data set, and need not always be a value present in the data set. \n",
    "A measure of central tendency could also indicate the tendency of data to centre around a particular value.\n",
    "Commonly used measures of central tendency include Mean, Median and Mode.\n",
    "\n",
    "1. Mean (Arithmetic Average)\n",
    "Definition: The sum of all values divided by the number of values.\n",
    "\n",
    "Mean = (x1 + x2 + x3 ...... +xn)/N\n",
    "\n",
    "When to Use:\n",
    "    When the data is numerical and does not have extreme outliers.\n",
    "    Appropriate for datasets where every value matters.\n",
    "\n",
    "2. Median\n",
    "Definition: The middle value when the data is ordered. If there are an even number of values, it is the average of the two middle values.\n",
    "\n",
    "When to Use:\n",
    "    When the data has outliers or is skewed.\n",
    "    Suitable for ordinal data (where order matters but intervals may not be equal).\n",
    "\n",
    "3. Mode\n",
    "Definition: The value(s) that occur most frequently in a dataset.\n",
    "It is possible for a dataset to have multiple modes. Datasets containing one value for mode are called unimodal, two modes are called bimodal, \n",
    "and more than two are called multimodal. \n",
    "\n",
    "When to Use:\n",
    "    For categorical data where mean and median are not meaningful (e.g., most popular product).\n",
    "    When identifying the most common occurrence is important.\n",
    "    Can also be used for numerical data with repeated values.'''"
   ]
  },
  {
   "cell_type": "code",
   "execution_count": 3,
   "id": "b39cf6f9-6c98-46d6-8738-d4474e22ffb9",
   "metadata": {},
   "outputs": [
    {
     "data": {
      "text/plain": [
       "'Q.3] Explain the concept of dispersion. How do variance and standard deviation measure the spread of data?\\nAns. Concept of Dispersion\\nDispersion refers to the extent to which data points in a dataset are spread out or scattered around a central value (like the mean or median). \\nIt provides insight into the variability or consistency of the data.\\n\\n  Low Dispersion: Data points are close to the mean, indicating consistency.\\n  High Dispersion: Data points are widely spread, indicating variability.\\n\\n1. Variance: The average of the squared differences between each data point and the mean.\\n\\n Interpretation:\\n    A higher variance indicates greater spread in the data.\\n    It is expressed in squared units (e.g., for a dataset in meters, the variance is in square meters).\\n\\n2. Standard Deviation: The square root of variance, providing a measure of spread in the same units as the data.\\n\\n Interpretation:\\n    A small standard deviation means most data points are close to the mean.\\n    A large standard deviation means data points are widely spread.\\n\\nHow Variance and Standard Deviation Measure Spread\\n\\n1. Measure Distance from the Mean:\\nBoth metrics quantify how far each data point is from the mean, with variance averaging the squared distances and standard deviation taking the \\nsquare root of that average.\\n\\n2. Handle Deviations Uniformly:\\nSquaring deviations ensures negative and positive deviations contribute equally to the spread.\\n\\n3. Use Cases:\\nVariance: Used in theoretical calculations or when analyzing distributions (e.g., ANOVA).\\nStandard Deviation: Preferred for practical interpretation since it uses the same units as the data.'"
      ]
     },
     "execution_count": 3,
     "metadata": {},
     "output_type": "execute_result"
    }
   ],
   "source": [
    "'''Q.3] Explain the concept of dispersion. How do variance and standard deviation measure the spread of data?\n",
    "Ans. Concept of Dispersion\n",
    "Dispersion refers to the extent to which data points in a dataset are spread out or scattered around a central value (like the mean or median). \n",
    "It provides insight into the variability or consistency of the data.\n",
    "\n",
    "  Low Dispersion: Data points are close to the mean, indicating consistency.\n",
    "  High Dispersion: Data points are widely spread, indicating variability.\n",
    "\n",
    "1. Variance: The average of the squared differences between each data point and the mean.\n",
    "\n",
    " Interpretation:\n",
    "    A higher variance indicates greater spread in the data.\n",
    "    It is expressed in squared units (e.g., for a dataset in meters, the variance is in square meters).\n",
    "\n",
    "2. Standard Deviation: The square root of variance, providing a measure of spread in the same units as the data.\n",
    "\n",
    " Interpretation:\n",
    "    A small standard deviation means most data points are close to the mean.\n",
    "    A large standard deviation means data points are widely spread.\n",
    "\n",
    "How Variance and Standard Deviation Measure Spread\n",
    "\n",
    "1. Measure Distance from the Mean:\n",
    "Both metrics quantify how far each data point is from the mean, with variance averaging the squared distances and standard deviation taking the \n",
    "square root of that average.\n",
    "\n",
    "2. Handle Deviations Uniformly:\n",
    "Squaring deviations ensures negative and positive deviations contribute equally to the spread.\n",
    "\n",
    "3. Use Cases:\n",
    "Variance: Used in theoretical calculations or when analyzing distributions (e.g., ANOVA).\n",
    "Standard Deviation: Preferred for practical interpretation since it uses the same units as the data.'''"
   ]
  },
  {
   "cell_type": "code",
   "execution_count": 4,
   "id": "7cbe3fa8-33b2-439d-a120-dba61151c1a4",
   "metadata": {},
   "outputs": [
    {
     "data": {
      "text/plain": [
       "'Q.4]  What is a box plot, and what can it tell you about the distribution of data?\\nAns. A box plot (also known as a box-and-whisker plot) is a graphical representation of the distribution of a dataset that summarizes its key \\ncharacteristics using five statistics:\\n\\n1. Minimum: The smallest value (excluding outliers).\\n2. First Quartile (Q1): The 25th percentile (lower quartile).\\n3. Median (Q2): The 50th percentile (middle value).\\n4. Third Quartile (Q3): The 75th percentile (upper quartile).\\n5. Maximum: The largest value (excluding outliers).\\n\\nAdditionally, a box plot highlights outliers, which are data points that fall significantly outside the range of most of the data.\\n\\nAnatomy of a Box Plot\\n\\n1. Box:\\nThe rectangle spans from the first quartile (Q1) to the third quartile (Q3), representing the interquartile range (IQR).\\nIQR=Q3−Q1.\\n\\n2. Line Inside the Box: Represents the median (Q2).\\n\\n3. Whiskers: Extend from the box to the minimum and maximum data points within 1.5 × IQR from Q1 and Q3, respectively.\\n\\n4. Outliers: Points beyond 1.5 × IQR from the quartiles are plotted as individual dots or symbols.\\n\\nWhat Can a Box Plot Tell You?\\n\\nCenter:\\nThe median (line inside the box) shows the central tendency of the data.\\n\\nSpread:\\nThe width of the box (IQR) indicates the variability of the middle 50% of the data.\\nThe length of the whiskers gives an idea of the overall spread.\\n\\nSkewness:\\nIf the median is closer to Q1 than Q3, the data is positively skewed.\\nIf the median is closer to Q3 than Q1, the data is negatively skewed.\\n\\nOutliers:\\nPoints plotted outside the whiskers highlight potential outliers, which may warrant further investigation.\\n\\nSymmetry:\\nA symmetric box plot (equal whiskers and median in the center) indicates a roughly normal distribution.'"
      ]
     },
     "execution_count": 4,
     "metadata": {},
     "output_type": "execute_result"
    }
   ],
   "source": [
    "'''Q.4]  What is a box plot, and what can it tell you about the distribution of data?\n",
    "Ans. A box plot (also known as a box-and-whisker plot) is a graphical representation of the distribution of a dataset that summarizes its key \n",
    "characteristics using five statistics:\n",
    "\n",
    "1. Minimum: The smallest value (excluding outliers).\n",
    "2. First Quartile (Q1): The 25th percentile (lower quartile).\n",
    "3. Median (Q2): The 50th percentile (middle value).\n",
    "4. Third Quartile (Q3): The 75th percentile (upper quartile).\n",
    "5. Maximum: The largest value (excluding outliers).\n",
    "\n",
    "Additionally, a box plot highlights outliers, which are data points that fall significantly outside the range of most of the data.\n",
    "\n",
    "Anatomy of a Box Plot\n",
    "\n",
    "1. Box:\n",
    "The rectangle spans from the first quartile (Q1) to the third quartile (Q3), representing the interquartile range (IQR).\n",
    "IQR=Q3−Q1.\n",
    "\n",
    "2. Line Inside the Box: Represents the median (Q2).\n",
    "\n",
    "3. Whiskers: Extend from the box to the minimum and maximum data points within 1.5 × IQR from Q1 and Q3, respectively.\n",
    "\n",
    "4. Outliers: Points beyond 1.5 × IQR from the quartiles are plotted as individual dots or symbols.\n",
    "\n",
    "What Can a Box Plot Tell You?\n",
    "\n",
    "Center:\n",
    "The median (line inside the box) shows the central tendency of the data.\n",
    "\n",
    "Spread:\n",
    "The width of the box (IQR) indicates the variability of the middle 50% of the data.\n",
    "The length of the whiskers gives an idea of the overall spread.\n",
    "\n",
    "Skewness:\n",
    "If the median is closer to Q1 than Q3, the data is positively skewed.\n",
    "If the median is closer to Q3 than Q1, the data is negatively skewed.\n",
    "\n",
    "Outliers:\n",
    "Points plotted outside the whiskers highlight potential outliers, which may warrant further investigation.\n",
    "\n",
    "Symmetry:\n",
    "A symmetric box plot (equal whiskers and median in the center) indicates a roughly normal distribution.'''"
   ]
  },
  {
   "cell_type": "code",
   "execution_count": 5,
   "id": "480deb5f-2665-47ea-a173-f8b4680738ea",
   "metadata": {},
   "outputs": [
    {
     "data": {
      "text/plain": [
       "'Q.5] Discuss the role of random sampling in making inferences about populations.\\nAns. Random sampling is a fundamental method in statistics used to draw conclusions (inferences) about a population based on a subset (sample) of \\nthat population. The goal is to ensure the sample is representative of the population, enabling accurate and unbiased predictions or generalizations.\\n\\nImportance of Random Sampling:\\n\\n1. Representativeness:\\nEnsures that the sample mirrors the characteristics of the population (e.g., demographics, behavior).\\nReduces bias that can arise from non-random or convenience sampling.\\n\\n2. Foundation for Statistical Inference:\\nAllows statisticians to use sample data to estimate population parameters (e.g., mean, proportion).\\nMakes it possible to compute confidence intervals and perform hypothesis testing.\\n\\n3. Minimizing Bias:\\nRandom selection helps avoid systematic errors introduced by the selection process.\\n\\n4. Enables Generalization:\\nFindings from the sample can be generalized to the entire population with a quantifiable margin of error.\\n\\nWorking of Sampling techniques:\\n\\n1. Simple Random Sampling (SRS):\\n\\nEvery member of the population has an equal chance of being selected.\\nE.g., Drawing names out of a hat or using a random number generator.\\n\\n2. Other Random Sampling Techniques:\\n\\n Stratified Sampling: Dividing the population into subgroups (strata) and sampling randomly within each subgroup to ensure representation.\\n Systematic Sampling: Selecting every 𝑘-th member of the population after a random start.\\n Cluster Sampling: Dividing the population into clusters and randomly selecting some clusters to sample.\\n\\nRandom Sampling and Population Inference\\n1. Estimating Population Parameters\\nSample statistics (e.g., sample mean, sample proportion) are used as estimates of population parameters (e.g., population mean, population proportion).\\nExample: If a random sample of 1,000 voters shows 60% prefer Candidate A, this proportion is used to infer the preference of the entire voting \\npopulation.\\n\\n2. Measuring Variability and Error\\nSampling Variability: Different random samples from the same population may produce slightly different results.\\nSampling Error: The difference between the sample statistic and the true population parameter.\\nRandom sampling ensures that sampling error is random and not systematically biased.\\n\\n3. Confidence Intervals\\nA random sample allows calculation of confidence intervals, which quantify the range within which the true population parameter is likely to lie with a \\ngiven level of certainty.\\n\\n4. Hypothesis Testing\\nRandom samples enable hypothesis testing to make decisions about population parameters (e.g., testing whether a new drug is effective).'"
      ]
     },
     "execution_count": 5,
     "metadata": {},
     "output_type": "execute_result"
    }
   ],
   "source": [
    "'''Q.5] Discuss the role of random sampling in making inferences about populations.\n",
    "Ans. Random sampling is a fundamental method in statistics used to draw conclusions (inferences) about a population based on a subset (sample) of \n",
    "that population. The goal is to ensure the sample is representative of the population, enabling accurate and unbiased predictions or generalizations.\n",
    "\n",
    "Importance of Random Sampling:\n",
    "\n",
    "1. Representativeness:\n",
    "Ensures that the sample mirrors the characteristics of the population (e.g., demographics, behavior).\n",
    "Reduces bias that can arise from non-random or convenience sampling.\n",
    "\n",
    "2. Foundation for Statistical Inference:\n",
    "Allows statisticians to use sample data to estimate population parameters (e.g., mean, proportion).\n",
    "Makes it possible to compute confidence intervals and perform hypothesis testing.\n",
    "\n",
    "3. Minimizing Bias:\n",
    "Random selection helps avoid systematic errors introduced by the selection process.\n",
    "\n",
    "4. Enables Generalization:\n",
    "Findings from the sample can be generalized to the entire population with a quantifiable margin of error.\n",
    "\n",
    "Working of Sampling techniques:\n",
    "\n",
    "1. Simple Random Sampling (SRS):\n",
    "\n",
    "Every member of the population has an equal chance of being selected.\n",
    "E.g., Drawing names out of a hat or using a random number generator.\n",
    "\n",
    "2. Other Random Sampling Techniques:\n",
    "\n",
    " Stratified Sampling: Dividing the population into subgroups (strata) and sampling randomly within each subgroup to ensure representation.\n",
    " Systematic Sampling: Selecting every 𝑘-th member of the population after a random start.\n",
    " Cluster Sampling: Dividing the population into clusters and randomly selecting some clusters to sample.\n",
    "\n",
    "Random Sampling and Population Inference\n",
    "1. Estimating Population Parameters\n",
    "Sample statistics (e.g., sample mean, sample proportion) are used as estimates of population parameters (e.g., population mean, population proportion).\n",
    "Example: If a random sample of 1,000 voters shows 60% prefer Candidate A, this proportion is used to infer the preference of the entire voting \n",
    "population.\n",
    "\n",
    "2. Measuring Variability and Error\n",
    "Sampling Variability: Different random samples from the same population may produce slightly different results.\n",
    "Sampling Error: The difference between the sample statistic and the true population parameter.\n",
    "Random sampling ensures that sampling error is random and not systematically biased.\n",
    "\n",
    "3. Confidence Intervals\n",
    "A random sample allows calculation of confidence intervals, which quantify the range within which the true population parameter is likely to lie with a \n",
    "given level of certainty.\n",
    "\n",
    "4. Hypothesis Testing\n",
    "Random samples enable hypothesis testing to make decisions about population parameters (e.g., testing whether a new drug is effective).'''"
   ]
  },
  {
   "cell_type": "code",
   "execution_count": 33,
   "id": "93ba7547-cc64-4762-aff5-e19a908cc34f",
   "metadata": {},
   "outputs": [
    {
     "data": {
      "image/png": "[encoded data removed]",
      "text/plain": [
       "<Figure size 1000x600 with 1 Axes>"
      ]
     },
     "metadata": {},
     "output_type": "display_data"
    },
    {
     "name": "stdout",
     "output_type": "stream",
     "text": [
      "Skewness of dataset :  0.45\n",
      "The dataset is positively skewed (right-skewed).\n"
     ]
    }
   ],
   "source": [
    "'''Q.6] Explain the concept of skewness and its types. How does skewness affect the interpretation of data?\n",
    "Ans. Skewness is the measure of lack of symmetry of the data in comparison with symmetric distribution. In symmetrically distributed data set, \n",
    "the mean and the median coincide.\n",
    "When there are unusually large or small values (called outliers), mean is affected by their presence. The shift in the mean away from the \n",
    "median is characterized by the nature of the unusual values.\n",
    "If there is an unusually large value in the data set, the mean becomes greater than the median, this indicates a right-skewed data. \n",
    "On the other hand, if there are unusually small values, the mean becomes lesser than the median, this indicates left-skewed data.\n",
    "\n",
    "Types of Skewness\n",
    "\n",
    "1. Positive Skew (Right-Skewed):\n",
    "\n",
    "The tail on the right side of the distribution (higher values) is longer than the left side.\n",
    "Most of the data is concentrated on the left, with a few extreme high values pulling the mean to the right.\n",
    "Examples: Income distribution, where a small percentage of people earn significantly more than the majority.\n",
    "\n",
    "2. Negative Skew (Left-Skewed):\n",
    "\n",
    "The tail on the left side of the distribution (lower values) is longer than the right side.\n",
    "Most of the data is concentrated on the right, with a few extreme low values pulling the mean to the left.\n",
    "Examples: Scores on an easy exam, where most students score very high, but a few perform poorly.\n",
    "\n",
    "3. No Skew (Symmetrical Distribution):\n",
    "\n",
    "The left and right sides of the distribution are mirror images.\n",
    "The mean, median, and mode are approximately equal.\n",
    "Examples: Heights of adult men or women in a population often approximate a normal distribution.'''\n",
    "\n",
    "#skewness\n",
    "from scipy.stats import skew, norm\n",
    "import pandas as pd\n",
    "import matplotlib.pyplot as plt\n",
    "import numpy as np\n",
    "\n",
    "#skew([11730,5461,6655,7484,10242,8547,5521,13207,7598,9421,11563,6995,10531,11525,7770,7094,8339,8375,8808,6802])\n",
    "\n",
    "data = [11730,5461,6655,7484,10242,8547,5521,13207,7598,9421,11563,6995,10531,11525,7770,7094,8339,8375,8808,6802]\n",
    "data_series = pd.Series(data)\n",
    "# Convert to pandas Series\n",
    "data_series = pd.Series(data)\n",
    "\n",
    "# Calculate mean and standard deviation\n",
    "mean = data_series.mean()\n",
    "std_dev = data_series.std()\n",
    "\n",
    "# Calculate skewness\n",
    "skewness = skew(data_series)\n",
    "\n",
    "# Plot histogram\n",
    "plt.figure(figsize=(10, 6))\n",
    "plt.hist(data_series, bins=10, edgecolor='k', alpha=0.6, density = True, label=\"Data Histogram\")\n",
    "\n",
    "# Generate normal distribution curve\n",
    "x = np.linspace(min(data_series), max(data_series), 1000)\n",
    "normal_curve = norm.pdf(x, mean, std_dev)\n",
    "plt.plot(x, normal_curve, color='orange', linewidth=2, label=\"Normal Distribution Curve\")\n",
    "\n",
    "# Add mean and median lines\n",
    "plt.axvline(mean, color='red', linestyle='dashed', linewidth=1, label=f\"Mean: {mean:.2f}\")\n",
    "plt.axvline(data_series.median(), color='blue', linestyle='dashed', linewidth=1, label=f\"Median: {data_series.median():.2f}\")\n",
    "\n",
    "# Title, labels, and legend\n",
    "plt.title(\"Dataset Distribution with Normal Curve\")\n",
    "plt.xlabel(\"Monthly Income\")\n",
    "plt.ylabel(\"Count of Households\")\n",
    "plt.legend()\n",
    "plt.show()\n",
    "\n",
    "print(f\"Skewness of dataset : {skewness : .2f}\")\n",
    "\n",
    "if skewness > 0:\n",
    "    print(\"The dataset is positively skewed (right-skewed).\")\n",
    "elif skewness < 0:\n",
    "    print(\"The dataset is negatively skewed (left-skewed).\")\n",
    "else:\n",
    "    print(\"The dataset is approximately symmetric.\")\n"
   ]
  },
  {
   "cell_type": "code",
   "execution_count": 1,
   "id": "eeaabc09-078e-4e02-86cb-74b83bc2d222",
   "metadata": {},
   "outputs": [
    {
     "data": {
      "text/plain": [
       "'Q.7] What is the interquartile range (IQR), and how is it used to detect outliers?\\nAns. The interquartile range is the difference between the third quartile(Q3) and the first quartile(Q1). \\nThis range is used to indicate the spread of the data.\\n\\nIt is calculated as:\\n                        IQR = 𝑄3 − 𝑄1\\n \\nWhere:\\n𝑄1 : The first quartile (25th percentile) – the value below which 25% of the data lies.\\n𝑄3 : The third quartile (75th percentile) – the value below which 75% of the data lies.\\n\\nUse of IQR to Detect Outliers:\\n\\nOutliers are data points that are significantly distant from other observations. The 1.5 × IQR Rule is commonly used to identify outliers:\\n\\nCalculate the IQR:\\n                    IQR = 𝑄3 − 𝑄1\\n\\nDetermine the boundaries for outliers:\\n\\nLower Boundary:\\n                    𝑄1 − 1.5 × IQR\\n\\nUpper Boundary:\\n                    𝑄3 + 1.5 × IQR\\n\\nClassify outliers:\\n\\nAny value below the lower boundary or above the upper boundary is considered an outlier.\\n\\nApplications of IQR\\n\\n1. Detecting Outliers: Helps clean data by identifying anomalies.\\n2. Box Plots: The IQR is visually represented in box plots, where whiskers extend up to 𝑄1 − 1.5 × IQR and 𝑄3 + 1.5 × IQR, and points \\noutside are marked as outliers.\\n3. Data Normalization: Used in preprocessing to handle skewed data.'"
      ]
     },
     "execution_count": 1,
     "metadata": {},
     "output_type": "execute_result"
    }
   ],
   "source": [
    "'''Q.7] What is the interquartile range (IQR), and how is it used to detect outliers?\n",
    "Ans. The interquartile range is the difference between the third quartile(Q3) and the first quartile(Q1). \n",
    "This range is used to indicate the spread of the data.\n",
    "\n",
    "It is calculated as:\n",
    "                        IQR = 𝑄3 − 𝑄1\n",
    " \n",
    "Where:\n",
    "𝑄1 : The first quartile (25th percentile) – the value below which 25% of the data lies.\n",
    "𝑄3 : The third quartile (75th percentile) – the value below which 75% of the data lies.\n",
    "\n",
    "Use of IQR to Detect Outliers:\n",
    "\n",
    "Outliers are data points that are significantly distant from other observations. The 1.5 × IQR Rule is commonly used to identify outliers:\n",
    "\n",
    "Calculate the IQR:\n",
    "                    IQR = 𝑄3 − 𝑄1\n",
    "\n",
    "Determine the boundaries for outliers:\n",
    "\n",
    "Lower Boundary:\n",
    "                    𝑄1 − 1.5 × IQR\n",
    "\n",
    "Upper Boundary:\n",
    "                    𝑄3 + 1.5 × IQR\n",
    "\n",
    "Classify outliers:\n",
    "\n",
    "Any value below the lower boundary or above the upper boundary is considered an outlier.\n",
    "\n",
    "Applications of IQR\n",
    "\n",
    "1. Detecting Outliers: Helps clean data by identifying anomalies.\n",
    "2. Box Plots: The IQR is visually represented in box plots, where whiskers extend up to 𝑄1 − 1.5 × IQR and 𝑄3 + 1.5 × IQR, and points \n",
    "outside are marked as outliers.\n",
    "3. Data Normalization: Used in preprocessing to handle skewed data.'''"
   ]
  },
  {
   "cell_type": "code",
   "execution_count": 2,
   "id": "71188b93-33f0-41b4-ac8a-18ef73b61600",
   "metadata": {},
   "outputs": [
    {
     "data": {
      "text/plain": [
       "'Q.8]  Discuss the conditions under which the binomial distribution is used.\\nAns. Conditions for Using the Binomial Distribution\\n1. Fixed Number of Trials (𝑛) : The experiment consists of a fixed number of trials. Each trial is identical and performed under the same conditions.\\nExample: Tossing a coin 10 times.\\n\\n2. Two Possible Outcomes : Each trial has only two possible outcomes: \"success\" (e.g., heads) and \"failure\" (e.g., tails).\\nThese outcomes are mutually exclusive.\\n\\n3. Independent Trials : The outcome of one trial does not affect the outcome of any other trial.\\nExample: Rolling a die multiple times without any dependency between rolls.\\n\\n4. Constant Probability of Success (𝑝) : The probability of success (𝑝) remains the same for every trial.\\nExample: In a fair coin toss, 𝑝 = 0.5 for heads.'"
      ]
     },
     "execution_count": 2,
     "metadata": {},
     "output_type": "execute_result"
    }
   ],
   "source": [
    "'''Q.8]  Discuss the conditions under which the binomial distribution is used.\n",
    "Ans. Conditions for Using the Binomial Distribution\n",
    "1. Fixed Number of Trials (𝑛) : The experiment consists of a fixed number of trials. Each trial is identical and performed under the same conditions.\n",
    "Example: Tossing a coin 10 times.\n",
    "\n",
    "2. Two Possible Outcomes : Each trial has only two possible outcomes: \"success\" (e.g., heads) and \"failure\" (e.g., tails).\n",
    "These outcomes are mutually exclusive.\n",
    "\n",
    "3. Independent Trials : The outcome of one trial does not affect the outcome of any other trial.\n",
    "Example: Rolling a die multiple times without any dependency between rolls.\n",
    "\n",
    "4. Constant Probability of Success (𝑝) : The probability of success (𝑝) remains the same for every trial.\n",
    "Example: In a fair coin toss, 𝑝 = 0.5 for heads.'''"
   ]
  },
  {
   "cell_type": "code",
   "execution_count": 3,
   "id": "ec98cf59-bad5-4799-a316-273fad89a4cd",
   "metadata": {},
   "outputs": [
    {
     "data": {
      "text/plain": [
       "'Q.9] Explain the properties of the normal distribution and the empirical rule (68-95-99.7 rule).\\nAns. Properties of the Normal Distribution\\nThe normal distribution, also known as the Gaussian distribution, is a continuous probability distribution characterized by its symmetric, \\nbell-shaped curve. \\n\\nBelow are its key properties:\\n\\n1. Symmetry : The curve is symmetric about the mean (𝜇). The mean, median, and mode are all equal and located at the center.\\n\\n2. Bell Shape : The curve is bell-shaped, with the highest point at the mean.\\n\\n3. Asymptotic : The tails of the distribution extend infinitely in both directions but never touch the x-axis.\\n\\n4. Defined by Mean and Standard Deviation : The distribution is fully described by two parameters:\\n        a. Mean (𝜇): Determines the center of the distribution.\\n        b. Standard Deviation (𝜎): Measures the spread or dispersion.\\n\\n5. Empirical Rule (68-95-99.7 Rule):\\n\\n    Approximately 68% of data lies within 1 standard deviation (𝜇 ± 𝜎) from the mean.\\n    Approximately 95% of data lies within 2 standard deviations (𝜇 ± 2𝜎) from the mean.\\n    Approximately 99.7% of data lies within 3 standard deviations (𝜇 ± 3𝜎) from the mean.\\n\\n6. Area Under the Curve : The total area under the curve is 1, representing the total probability.\\n\\n7. Unimodal : The curve has a single peak.\\n\\n8. Continuous : The probability of any specific value is 0; instead, probabilities are determined over intervals.'"
      ]
     },
     "execution_count": 3,
     "metadata": {},
     "output_type": "execute_result"
    }
   ],
   "source": [
    "'''Q.9] Explain the properties of the normal distribution and the empirical rule (68-95-99.7 rule).\n",
    "Ans. Properties of the Normal Distribution\n",
    "The normal distribution, also known as the Gaussian distribution, is a continuous probability distribution characterized by its symmetric, \n",
    "bell-shaped curve. \n",
    "\n",
    "Below are its key properties:\n",
    "\n",
    "1. Symmetry : The curve is symmetric about the mean (𝜇). The mean, median, and mode are all equal and located at the center.\n",
    "\n",
    "2. Bell Shape : The curve is bell-shaped, with the highest point at the mean.\n",
    "\n",
    "3. Asymptotic : The tails of the distribution extend infinitely in both directions but never touch the x-axis.\n",
    "\n",
    "4. Defined by Mean and Standard Deviation : The distribution is fully described by two parameters:\n",
    "        a. Mean (𝜇): Determines the center of the distribution.\n",
    "        b. Standard Deviation (𝜎): Measures the spread or dispersion.\n",
    "\n",
    "5. Empirical Rule (68-95-99.7 Rule):\n",
    "\n",
    "    Approximately 68% of data lies within 1 standard deviation (𝜇 ± 𝜎) from the mean.\n",
    "    Approximately 95% of data lies within 2 standard deviations (𝜇 ± 2𝜎) from the mean.\n",
    "    Approximately 99.7% of data lies within 3 standard deviations (𝜇 ± 3𝜎) from the mean.\n",
    "\n",
    "6. Area Under the Curve : The total area under the curve is 1, representing the total probability.\n",
    "\n",
    "7. Unimodal : The curve has a single peak.\n",
    "\n",
    "8. Continuous : The probability of any specific value is 0; instead, probabilities are determined over intervals.'''"
   ]
  },
  {
   "cell_type": "code",
   "execution_count": 4,
   "id": "9fc6023e-0c7c-464a-9ad3-84b22e72ec52",
   "metadata": {},
   "outputs": [
    {
     "data": {
      "text/plain": [
       "\"Q.10] Provide a real-life example of a Poisson process and calculate the probability for a specific event.\\nAns. A Poisson process is a stochastic process used to model random events that occur independently over time or space. \\nA classic real-life example is call arrivals at a customer service center:\\n\\nSuppose a customer service center receives an average of 6 calls per hour (𝜆 = 6). The number of calls in a given hour follows a Poisson distribution.\\n\\nCalculating the Probability of a Specific Event\\nProblem:\\nWhat is the probability that the service center receives exactly 8 calls in a given hour?\\n\\nFormula:\\nThe probability mass function (PMF) for the Poisson distribution is:\\n\\n𝑃(𝑋 = 𝑘) = (𝜆^𝑘 * 𝑒^−𝜆)/𝑘!\\n\\nWhere:\\n\\n𝑋 : Number of events (calls) in a fixed interval.\\n𝜆 : Average number of events per interval (6 calls per hour in this example).\\n𝑘 : Specific number of events (8 calls in this case).\\n𝑒 : Euler's number (≈2.718).\\nk! : factorial of k\\n\\nSubstituting Values:\\n𝑃(𝑋 = 8) = ((6^8)*(𝑒^−6))/8!\\n\\n1. Calculate the factorial : 8! = 8 × 7 × 6 × 5 × 4 × 3 × 2 × 1 = 40320\\n2. Calculate 6^8 : 6^8 = 1679616\\n3. Calculate e^−6 : Using e≈2.718, e^−6 ≈ 0.002478\\n4. Combine : P(X = 8) = (1679616 * 0.002478)/40320 ≈ 0.1032\\n\\nConclusion:\\n\\n# There is about a 10% chance of receiving exactly 8 calls in an hour.\\n# The Poisson distribution is ideal for modeling this situation because calls arrive randomly and independently, and the rate (𝜆 = 6) is constant \\nover time.\""
      ]
     },
     "execution_count": 4,
     "metadata": {},
     "output_type": "execute_result"
    }
   ],
   "source": [
    "'''Q.10] Provide a real-life example of a Poisson process and calculate the probability for a specific event.\n",
    "Ans. A Poisson process is a stochastic process used to model random events that occur independently over time or space. \n",
    "A classic real-life example is call arrivals at a customer service center:\n",
    "\n",
    "Suppose a customer service center receives an average of 6 calls per hour (𝜆 = 6). The number of calls in a given hour follows a Poisson distribution.\n",
    "\n",
    "Calculating the Probability of a Specific Event\n",
    "Problem:\n",
    "What is the probability that the service center receives exactly 8 calls in a given hour?\n",
    "\n",
    "Formula:\n",
    "The probability mass function (PMF) for the Poisson distribution is:\n",
    "\n",
    "𝑃(𝑋 = 𝑘) = (𝜆^𝑘 * 𝑒^−𝜆)/𝑘!\n",
    "\n",
    "Where:\n",
    "\n",
    "𝑋 : Number of events (calls) in a fixed interval.\n",
    "𝜆 : Average number of events per interval (6 calls per hour in this example).\n",
    "𝑘 : Specific number of events (8 calls in this case).\n",
    "𝑒 : Euler's number (≈2.718).\n",
    "k! : factorial of k\n",
    "\n",
    "Substituting Values:\n",
    "𝑃(𝑋 = 8) = ((6^8)*(𝑒^−6))/8!\n",
    "\n",
    "1. Calculate the factorial : 8! = 8 × 7 × 6 × 5 × 4 × 3 × 2 × 1 = 40320\n",
    "2. Calculate 6^8 : 6^8 = 1679616\n",
    "3. Calculate e^−6 : Using e≈2.718, e^−6 ≈ 0.002478\n",
    "4. Combine : P(X = 8) = (1679616 * 0.002478)/40320 ≈ 0.1032\n",
    "\n",
    "Conclusion:\n",
    "\n",
    "# There is about a 10% chance of receiving exactly 8 calls in an hour.\n",
    "# The Poisson distribution is ideal for modeling this situation because calls arrive randomly and independently, and the rate (𝜆 = 6) is constant \n",
    "over time.'''"
   ]
  },
  {
   "cell_type": "code",
   "execution_count": 5,
   "id": "ab976bc5-78c1-4284-a2a2-a542da034bad",
   "metadata": {},
   "outputs": [
    {
     "data": {
      "text/plain": [
       "'Q.11] Explain what a random variable is and differentiate between discrete and continuous random variables.\\nAns. A random variable is a numerical representation of the outcomes of a random phenomenon or experiment. It assigns a number to each possible \\noutcome of a random event.\\n\\n# It is a function or rule that maps each outcome in a sample space to a real number.\\n# Random variables are typically denoted by capital letters such as 𝑋, 𝑌, or 𝑍.\\n\\nTypes of Random Variables\\nRandom variables are classified into two types based on the nature of the outcomes:\\n\\n1. Discrete Random Variables:\\nA random variable is discrete if it can take a countable number of distinct values.\\nThese values are typically integers or specific numbers, representing outcomes that can be enumerated.\\n\\n Properties:\\n\\n    The probability of each value can be calculated using a probability mass function (PMF).\\n    The sum of probabilities for all possible values equals 1.\\n\\n2. Continuous Random Variables\\nA random variable is continuous if it can take an infinite number of possible values within a given range.\\nThese values are typically real numbers, representing outcomes measured on a continuous scale.\\n\\n Properties:\\n\\n    The probability of any specific value is 0 because there are infinitely many possible values.\\n    Probabilities are calculated over intervals using a probability density function (PDF).\\n    The total area under the PDF curve equals 1.'"
      ]
     },
     "execution_count": 5,
     "metadata": {},
     "output_type": "execute_result"
    }
   ],
   "source": [
    "'''Q.11] Explain what a random variable is and differentiate between discrete and continuous random variables.\n",
    "Ans. A random variable is a numerical representation of the outcomes of a random phenomenon or experiment. It assigns a number to each possible \n",
    "outcome of a random event.\n",
    "\n",
    "# It is a function or rule that maps each outcome in a sample space to a real number.\n",
    "# Random variables are typically denoted by capital letters such as 𝑋, 𝑌, or 𝑍.\n",
    "\n",
    "Types of Random Variables\n",
    "Random variables are classified into two types based on the nature of the outcomes:\n",
    "\n",
    "1. Discrete Random Variables:\n",
    "A random variable is discrete if it can take a countable number of distinct values.\n",
    "These values are typically integers or specific numbers, representing outcomes that can be enumerated.\n",
    "\n",
    " Properties:\n",
    "\n",
    "    The probability of each value can be calculated using a probability mass function (PMF).\n",
    "    The sum of probabilities for all possible values equals 1.\n",
    "\n",
    "2. Continuous Random Variables\n",
    "A random variable is continuous if it can take an infinite number of possible values within a given range.\n",
    "These values are typically real numbers, representing outcomes measured on a continuous scale.\n",
    "\n",
    " Properties:\n",
    "\n",
    "    The probability of any specific value is 0 because there are infinitely many possible values.\n",
    "    Probabilities are calculated over intervals using a probability density function (PDF).\n",
    "    The total area under the PDF curve equals 1.'''"
   ]
  },
  {
   "cell_type": "code",
   "execution_count": 6,
   "id": "134cc17d-0e4d-404d-afa1-c6c5fd2c9c27",
   "metadata": {},
   "outputs": [
    {
     "name": "stdout",
     "output_type": "stream",
     "text": [
      "Covariance between Height and Weight: 50.0\n",
      "Correlation between Height and Weight: 1.0\n"
     ]
    }
   ],
   "source": [
    "'''Q.12] Provide an example dataset, calculate both covariance and correlation, and interpret the results.\n",
    "Ans. \n",
    "Example Dataset :\n",
    "\n",
    "Person     Height(cm) (X)    Weight (kg) (Y)\n",
    "\n",
    "A            160                55\n",
    "B            165                60\n",
    "C            170                65\n",
    "D            175                70\n",
    "E            180                75\n",
    "'''\n",
    "\n",
    "import numpy as np\n",
    "import pandas as pd\n",
    "\n",
    "# Dataset\n",
    "heights = [160, 165, 170, 175, 180]  # Heights in cm\n",
    "weights = [55, 60, 65, 70, 75]       # Weights in kg\n",
    "\n",
    "# Create a DataFrame\n",
    "data = pd.DataFrame({\n",
    "    \"Height (cm)\": heights,\n",
    "    \"Weight (kg)\": weights\n",
    "})\n",
    "\n",
    "# Calculate covariance\n",
    "cov_matrix = np.cov(heights, weights, bias=True)  # bias=True for population covariance\n",
    "covariance = cov_matrix[0, 1]\n",
    "\n",
    "# Calculate correlation\n",
    "correlation = np.corrcoef(heights, weights)[0, 1]\n",
    "\n",
    "# Print results\n",
    "print(\"Covariance between Height and Weight:\", covariance)\n",
    "print(\"Correlation between Height and Weight:\", correlation)\n",
    "\n",
    "'''Interpretation of Results\n",
    "Covariance:\n",
    "\n",
    "A positive covariance (50) indicates that height and weight tend to increase together.However, covariance is not standardized, so its magnitude \n",
    "alone is difficult to interpret.\n",
    "\n",
    "Correlation:\n",
    "\n",
    "The correlation coefficient (1) shows a perfect positive linear relationship between height and weight in this dataset. This means as height increases,\n",
    "weight increases proportionally.'''"
   ]
  },
  {
   "cell_type": "code",
   "execution_count": null,
   "id": "887775b5-dfe0-4c09-a82b-960e9d78ef93",
   "metadata": {},
   "outputs": [],
   "source": []
  }
 ],
 "metadata": {
  "kernelspec": {
   "display_name": "Python 3 (ipykernel)",
   "language": "python",
   "name": "python3"
  },
  "language_info": {
   "codemirror_mode": {
    "name": "ipython",
    "version": 3
   },
   "file_extension": ".py",
   "mimetype": "text/x-python",
   "name": "python",
   "nbconvert_exporter": "python",
   "pygments_lexer": "ipython3",
   "version": "3.10.2"
  }
 },
 "nbformat": 4,
 "nbformat_minor": 5
}
